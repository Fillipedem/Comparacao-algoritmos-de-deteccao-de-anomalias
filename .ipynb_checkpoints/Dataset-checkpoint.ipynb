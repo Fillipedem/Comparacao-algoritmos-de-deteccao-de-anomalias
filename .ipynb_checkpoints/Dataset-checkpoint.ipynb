{
 "cells": [
  {
   "cell_type": "markdown",
   "metadata": {
    "toc": true
   },
   "source": [
    "<h1>Table of Contents<span class=\"tocSkip\"></span></h1>\n",
    "<div class=\"toc\"><ul class=\"toc-item\"><li><span><a href=\"#Dataset-loader\" data-toc-modified-id=\"Dataset-loader-1\"><span class=\"toc-item-num\">1&nbsp;&nbsp;</span>Dataset loader</a></span></li><li><span><a href=\"#Teste\" data-toc-modified-id=\"Teste-2\"><span class=\"toc-item-num\">2&nbsp;&nbsp;</span>Teste</a></span><ul class=\"toc-item\"><li><span><a href=\"#Print-datasets-info\" data-toc-modified-id=\"Print-datasets-info-2.1\"><span class=\"toc-item-num\">2.1&nbsp;&nbsp;</span>Print datasets info</a></span></li><li><span><a href=\"#Get-dataset-list\" data-toc-modified-id=\"Get-dataset-list-2.2\"><span class=\"toc-item-num\">2.2&nbsp;&nbsp;</span>Get dataset list</a></span></li><li><span><a href=\"#Load-data\" data-toc-modified-id=\"Load-data-2.3\"><span class=\"toc-item-num\">2.3&nbsp;&nbsp;</span>Load data</a></span></li></ul></li></ul></div>"
   ]
  },
  {
   "cell_type": "markdown",
   "metadata": {},
   "source": [
    "### Dataset loader\n"
   ]
  },
  {
   "cell_type": "code",
   "execution_count": 1,
   "metadata": {},
   "outputs": [],
   "source": [
    "import numpy as np\n",
    "import pandas as pd\n",
    "\n",
    "import os\n",
    "import json\n",
    "\n",
    "import functools "
   ]
  },
  {
   "cell_type": "markdown",
   "metadata": {},
   "source": [
    "Dataset loader para as bases NAB"
   ]
  },
  {
   "cell_type": "code",
   "execution_count": 2,
   "metadata": {
    "code_folding": [
     10,
     17,
     41,
     47,
     53
    ]
   },
   "outputs": [],
   "source": [
    "class DatasetLoader(object):\n",
    "    \n",
    "    def __init__(self, path='./data/', labels_path='./labels/combined_windows.json'):\n",
    "        ''' path: deve os folders de cada dataset\n",
    "            labels_path: path que contem o arquivo de labels combined_windows.json\n",
    "        '''\n",
    "        self.path = path\n",
    "        self.datasets = self.__datasets_name(path)\n",
    "        self.labels = self.__get_labels(labels_path)\n",
    "    \n",
    "    def print_all(self):\n",
    "        ''' print the dataset list '''\n",
    "        for k, datasets in self.datasets.items(): \n",
    "            print(k + ':')\n",
    "            for ds in datasets:\n",
    "                print(' '*5 + ds)\n",
    "                \n",
    "    def get_list(self, category=None):\n",
    "        # datasets de uma categoria\n",
    "        if category is not None:\n",
    "            return self.datasets[category]\n",
    "        # todos os datasets\n",
    "        return functools.reduce(lambda x, y: x + y, \n",
    "                                list(self.datasets.values()))\n",
    "    \n",
    "    def load(self, name):\n",
    "        '''\n",
    "            returns: Tuple(data, labels)\n",
    "            data, labels: dataframe \n",
    "        '''\n",
    "        for n in self.datasets.keys():\n",
    "            if name in self.datasets[n]:\n",
    "                # data\n",
    "                df = pd.read_csv(self.path + n + '/' + name)\n",
    "                df['timestamp'] = pd.to_datetime(df['timestamp'], format='%Y/%m/%d %H:%M:%S')\n",
    "                df.set_index('timestamp', inplace=True)\n",
    "                # label\n",
    "                label = self.__labels(n + '/' + name)\n",
    "                \n",
    "                return df, label\n",
    "        \n",
    "    def __datasets_name(self, path):\n",
    "        datasets = {}\n",
    "        folders = os.listdir(path)\n",
    "        for f in folders: datasets[f] = os.listdir(path + f)\n",
    "        return datasets\n",
    "    \n",
    "    def __get_labels(self, path):\n",
    "        with open(path) as f:\n",
    "            labels = json.load(f)\n",
    "\n",
    "        return labels\n",
    "    \n",
    "    def __labels(self, name):\n",
    "        if self.labels[name] == []:\n",
    "            return None\n",
    "        \n",
    "        true_windows = pd.DataFrame(self.labels[name])\n",
    "        true_windows[0] = pd.to_datetime(true_windows[0], format='%Y/%m/%d %H:%M:%S')\n",
    "        true_windows[1] = pd.to_datetime(true_windows[1], format='%Y/%m/%d %H:%M:%S')\n",
    "        true_windows.columns=['start', 'end']\n",
    "        return true_windows"
   ]
  },
  {
   "cell_type": "markdown",
   "metadata": {},
   "source": [
    "### Teste"
   ]
  },
  {
   "cell_type": "markdown",
   "metadata": {},
   "source": [
    "#### Print datasets info"
   ]
  },
  {
   "cell_type": "code",
   "execution_count": 3,
   "metadata": {
    "scrolled": true
   },
   "outputs": [],
   "source": [
    "#loader = DatasetLoader()\n",
    "#loader.print_all()"
   ]
  },
  {
   "cell_type": "markdown",
   "metadata": {},
   "source": [
    "#### Get dataset list"
   ]
  },
  {
   "cell_type": "code",
   "execution_count": 4,
   "metadata": {
    "scrolled": true
   },
   "outputs": [],
   "source": [
    "#ds_list = loader.get_list()\n",
    "#ds_list[:10]"
   ]
  },
  {
   "cell_type": "code",
   "execution_count": 5,
   "metadata": {
    "scrolled": false
   },
   "outputs": [],
   "source": [
    "#loader.get_list('realTweets')"
   ]
  },
  {
   "cell_type": "markdown",
   "metadata": {},
   "source": [
    "#### Load data"
   ]
  },
  {
   "cell_type": "code",
   "execution_count": 6,
   "metadata": {
    "scrolled": true
   },
   "outputs": [],
   "source": [
    "#for ds in ds_list:\n",
    "#    df = loader.load(ds)\n",
    "#    \n",
    "#    if df is not None:\n",
    "#        print(ds + ': ok')\n",
    "#    else:\n",
    "#        print(ds + ': ERROR')"
   ]
  },
  {
   "cell_type": "code",
   "execution_count": 7,
   "metadata": {
    "scrolled": true
   },
   "outputs": [],
   "source": [
    "#df, label = loader.load(ds_list[0])\n",
    "#df.plot()"
   ]
  },
  {
   "cell_type": "code",
   "execution_count": 8,
   "metadata": {},
   "outputs": [],
   "source": [
    "#df, label = loader.load(ds_list[20])\n",
    "#df.plot()"
   ]
  },
  {
   "cell_type": "code",
   "execution_count": 9,
   "metadata": {
    "scrolled": false
   },
   "outputs": [],
   "source": [
    "#df, label = loader.load('nyc_taxi.csv')\n",
    "#df.plot()"
   ]
  }
 ],
 "metadata": {
  "kernelspec": {
   "display_name": "Python 3",
   "language": "python",
   "name": "python3"
  },
  "language_info": {
   "codemirror_mode": {
    "name": "ipython",
    "version": 3
   },
   "file_extension": ".py",
   "mimetype": "text/x-python",
   "name": "python",
   "nbconvert_exporter": "python",
   "pygments_lexer": "ipython3",
   "version": "3.7.6"
  },
  "toc": {
   "base_numbering": 1,
   "nav_menu": {},
   "number_sections": true,
   "sideBar": true,
   "skip_h1_title": false,
   "title_cell": "Table of Contents",
   "title_sidebar": "Contents",
   "toc_cell": true,
   "toc_position": {},
   "toc_section_display": true,
   "toc_window_display": true
  }
 },
 "nbformat": 4,
 "nbformat_minor": 4
}
