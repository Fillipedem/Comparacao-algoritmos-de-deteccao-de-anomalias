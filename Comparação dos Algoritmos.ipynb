{
 "cells": [
  {
   "cell_type": "markdown",
   "metadata": {},
   "source": [
    "# Comparação dos Algoritmos"
   ]
  },
  {
   "cell_type": "code",
   "execution_count": 5,
   "metadata": {},
   "outputs": [],
   "source": [
    "import numpy as np\n",
    "import pandas as pd\n",
    "\n",
    "import matplotlib.pyplot as plt\n",
    "import seaborn as sns\n",
    "sns.set()"
   ]
  },
  {
   "cell_type": "markdown",
   "metadata": {},
   "source": [
    "##  Precision-Recall curve"
   ]
  },
  {
   "cell_type": "code",
   "execution_count": 3,
   "metadata": {},
   "outputs": [
    {
     "data": {
      "text/plain": [
       "['topk_score_ambient_temperature_system_failure.csv',\n",
       " 'topk_score_cpu_utilization_asg_misconfiguration.csv',\n",
       " 'topk_score_ec2_request_latency_system_failure.csv',\n",
       " 'topk_score_machine_temperature_system_failure.csv',\n",
       " 'topk_score_nyc_taxi.csv']"
      ]
     },
     "execution_count": 3,
     "metadata": {},
     "output_type": "execute_result"
    }
   ],
   "source": [
    "import os\n",
    "\n",
    "files = os.listdir('./results/')\n",
    "files = [f for f in files if '.csv' in f]\n",
    "files"
   ]
  },
  {
   "cell_type": "code",
   "execution_count": 27,
   "metadata": {},
   "outputs": [
    {
     "data": {
      "text/plain": [
       "[           mad     tukey   twitter\n",
       " rank                              \n",
       " 1     1.000000  1.000000  0.000000\n",
       " 2     1.000000  1.000000  0.500000\n",
       " 3     0.666667  0.666667  0.666667\n",
       " 4     0.500000  0.500000  0.500000\n",
       " 5     0.400000  0.400000  0.400000,\n",
       "            mad     tukey   twitter\n",
       " rank                              \n",
       " 1     1.000000  1.000000  1.000000\n",
       " 2     0.500000  0.500000  0.500000\n",
       " 3     0.333333  0.333333  0.333333\n",
       " 4     0.250000  0.250000  0.250000\n",
       " 5     0.200000  0.200000  0.200000,\n",
       "            mad  tukey   twitter\n",
       " rank                           \n",
       " 1     1.000000   1.00  1.000000\n",
       " 2     1.000000   1.00  1.000000\n",
       " 3     0.666667   1.00  0.666667\n",
       " 4     0.750000   0.75  0.500000\n",
       " 5     0.600000   0.60  0.400000,\n",
       "            mad     tukey   twitter\n",
       " rank                              \n",
       " 1     1.000000  1.000000  1.000000\n",
       " 2     0.500000  0.500000  0.500000\n",
       " 3     0.666667  0.666667  0.666667\n",
       " 4     0.750000  0.750000  0.750000\n",
       " 5     0.600000  0.600000  0.600000,\n",
       "            mad     tukey  twitter\n",
       " rank                             \n",
       " 1     1.000000  1.000000     1.00\n",
       " 2     0.500000  0.500000     1.00\n",
       " 3     0.333333  0.333333     1.00\n",
       " 4     0.250000  0.250000     0.75\n",
       " 5     0.200000  0.200000     0.60]"
      ]
     },
     "execution_count": 27,
     "metadata": {},
     "output_type": "execute_result"
    }
   ],
   "source": [
    "dfs = [pd.read_csv('./results/' + f) for f in files]\n",
    "dfs = list(map(lambda x: x.set_index('rank'), dfs))\n",
    "dfs"
   ]
  },
  {
   "cell_type": "code",
   "execution_count": 28,
   "metadata": {},
   "outputs": [
    {
     "data": {
      "text/html": [
       "<div>\n",
       "<style scoped>\n",
       "    .dataframe tbody tr th:only-of-type {\n",
       "        vertical-align: middle;\n",
       "    }\n",
       "\n",
       "    .dataframe tbody tr th {\n",
       "        vertical-align: top;\n",
       "    }\n",
       "\n",
       "    .dataframe thead th {\n",
       "        text-align: right;\n",
       "    }\n",
       "</style>\n",
       "<table border=\"1\" class=\"dataframe\">\n",
       "  <thead>\n",
       "    <tr style=\"text-align: right;\">\n",
       "      <th></th>\n",
       "      <th>mad</th>\n",
       "      <th>tukey</th>\n",
       "      <th>twitter</th>\n",
       "    </tr>\n",
       "    <tr>\n",
       "      <th>rank</th>\n",
       "      <th></th>\n",
       "      <th></th>\n",
       "      <th></th>\n",
       "    </tr>\n",
       "  </thead>\n",
       "  <tbody>\n",
       "    <tr>\n",
       "      <th>1</th>\n",
       "      <td>1.000000</td>\n",
       "      <td>1.0</td>\n",
       "      <td>0.800000</td>\n",
       "    </tr>\n",
       "    <tr>\n",
       "      <th>2</th>\n",
       "      <td>0.700000</td>\n",
       "      <td>0.7</td>\n",
       "      <td>0.700000</td>\n",
       "    </tr>\n",
       "    <tr>\n",
       "      <th>3</th>\n",
       "      <td>0.533333</td>\n",
       "      <td>0.6</td>\n",
       "      <td>0.666667</td>\n",
       "    </tr>\n",
       "    <tr>\n",
       "      <th>4</th>\n",
       "      <td>0.500000</td>\n",
       "      <td>0.5</td>\n",
       "      <td>0.550000</td>\n",
       "    </tr>\n",
       "    <tr>\n",
       "      <th>5</th>\n",
       "      <td>0.400000</td>\n",
       "      <td>0.4</td>\n",
       "      <td>0.440000</td>\n",
       "    </tr>\n",
       "  </tbody>\n",
       "</table>\n",
       "</div>"
      ],
      "text/plain": [
       "           mad  tukey   twitter\n",
       "rank                           \n",
       "1     1.000000    1.0  0.800000\n",
       "2     0.700000    0.7  0.700000\n",
       "3     0.533333    0.6  0.666667\n",
       "4     0.500000    0.5  0.550000\n",
       "5     0.400000    0.4  0.440000"
      ]
     },
     "execution_count": 28,
     "metadata": {},
     "output_type": "execute_result"
    }
   ],
   "source": [
    "new_df = dfs[0]\n",
    "for df in dfs[1:]:\n",
    "    new_df = new_df + df\n",
    "new_df = new_df/len(dfs)\n",
    "new_df"
   ]
  },
  {
   "cell_type": "code",
   "execution_count": 33,
   "metadata": {},
   "outputs": [
    {
     "data": {
      "image/png": "[encoded data removed]",
      "text/plain": [
       "<Figure size 720x360 with 1 Axes>"
      ]
     },
     "metadata": {},
     "output_type": "display_data"
    }
   ],
   "source": [
    "from helper import plot_precision_recall_curve\n",
    "\n",
    "plot_precision_recall_curve(new_df);"
   ]
  }
 ],
 "metadata": {
  "kernelspec": {
   "display_name": "Python 3",
   "language": "python",
   "name": "python3"
  },
  "language_info": {
   "codemirror_mode": {
    "name": "ipython",
    "version": 3
   },
   "file_extension": ".py",
   "mimetype": "text/x-python",
   "name": "python",
   "nbconvert_exporter": "python",
   "pygments_lexer": "ipython3",
   "version": "3.7.6"
  },
  "toc": {
   "base_numbering": 1,
   "nav_menu": {},
   "number_sections": true,
   "sideBar": true,
   "skip_h1_title": false,
   "title_cell": "Table of Contents",
   "title_sidebar": "Contents",
   "toc_cell": false,
   "toc_position": {},
   "toc_section_display": true,
   "toc_window_display": false
  }
 },
 "nbformat": 4,
 "nbformat_minor": 4
}
